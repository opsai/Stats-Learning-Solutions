{
 "cells": [
  {
   "cell_type": "markdown",
   "metadata": {},
   "source": [
    "Last modified by Soshant Bali on 11/30/2016"
   ]
  },
  {
   "cell_type": "code",
   "execution_count": 1,
   "metadata": {
    "collapsed": true
   },
   "outputs": [],
   "source": [
    "import pandas as pd\n",
    "import numpy as np\n",
    "import sklearn as sk\n",
    "import statsmodels.api as sm\n",
    "import matplotlib.pyplot as plt"
   ]
  },
  {
   "cell_type": "code",
   "execution_count": 12,
   "metadata": {
    "collapsed": false
   },
   "outputs": [],
   "source": [
    "#Generate data\n",
    "x=np.random.normal(0,1,100)\n",
    "y=2*x + np.random.normal(0,1,100)\n",
    "#convert numpy arrays to pandas data frame\n",
    "xy_df = pd.DataFrame({'y':y,'x':x})"
   ]
  },
  {
   "cell_type": "code",
   "execution_count": 13,
   "metadata": {
    "collapsed": false
   },
   "outputs": [
    {
     "name": "stdout",
     "output_type": "stream",
     "text": [
      "                            OLS Regression Results                            \n",
      "==============================================================================\n",
      "Dep. Variable:                      y   R-squared:                       0.785\n",
      "Model:                            OLS   Adj. R-squared:                  0.783\n",
      "Method:                 Least Squares   F-statistic:                     361.8\n",
      "Date:                Wed, 30 Nov 2016   Prob (F-statistic):           7.87e-35\n",
      "Time:                        18:30:17   Log-Likelihood:                -141.77\n",
      "No. Observations:                 100   AIC:                             285.5\n",
      "Df Residuals:                      99   BIC:                             288.2\n",
      "Df Model:                           1                                         \n",
      "Covariance Type:            nonrobust                                         \n",
      "==============================================================================\n",
      "                 coef    std err          t      P>|t|      [95.0% Conf. Int.]\n",
      "------------------------------------------------------------------------------\n",
      "x              1.9529      0.103     19.020      0.000         1.749     2.157\n",
      "==============================================================================\n",
      "Omnibus:                        1.236   Durbin-Watson:                   1.812\n",
      "Prob(Omnibus):                  0.539   Jarque-Bera (JB):                1.257\n",
      "Skew:                          -0.257   Prob(JB):                        0.533\n",
      "Kurtosis:                       2.806   Cond. No.                         1.00\n",
      "==============================================================================\n",
      "\n",
      "Warnings:\n",
      "[1] Standard Errors assume that the covariance matrix of the errors is correctly specified.\n"
     ]
    }
   ],
   "source": [
    "#Generalized linear model (no intercept)\n",
    "model = sm.formula.ols(formula='y ~ x + 0',data=xy_df)\n",
    "res = model.fit()\n",
    "print (res.summary())"
   ]
  },
  {
   "cell_type": "markdown",
   "metadata": {},
   "source": [
    "(a) Coefficient estimate (slope) is 1.9529, and standard error of this estimate is 0.103. Null hypothesis that slope is zero is rejected, because, t-statistic is 19.02, & p-value 0 (or very low). "
   ]
  },
  {
   "cell_type": "code",
   "execution_count": 15,
   "metadata": {
    "collapsed": false
   },
   "outputs": [
    {
     "name": "stdout",
     "output_type": "stream",
     "text": [
      "                            OLS Regression Results                            \n",
      "==============================================================================\n",
      "Dep. Variable:                      x   R-squared:                       0.785\n",
      "Model:                            OLS   Adj. R-squared:                  0.783\n",
      "Method:                 Least Squares   F-statistic:                     361.8\n",
      "Date:                Thu, 01 Dec 2016   Prob (F-statistic):           7.87e-35\n",
      "Time:                        10:07:17   Log-Likelihood:                -62.746\n",
      "No. Observations:                 100   AIC:                             127.5\n",
      "Df Residuals:                      99   BIC:                             130.1\n",
      "Df Model:                           1                                         \n",
      "Covariance Type:            nonrobust                                         \n",
      "==============================================================================\n",
      "                 coef    std err          t      P>|t|      [95.0% Conf. Int.]\n",
      "------------------------------------------------------------------------------\n",
      "y              0.4020      0.021     19.020      0.000         0.360     0.444\n",
      "==============================================================================\n",
      "Omnibus:                        0.011   Durbin-Watson:                   1.882\n",
      "Prob(Omnibus):                  0.995   Jarque-Bera (JB):                0.072\n",
      "Skew:                          -0.022   Prob(JB):                        0.965\n",
      "Kurtosis:                       2.876   Cond. No.                         1.00\n",
      "==============================================================================\n",
      "\n",
      "Warnings:\n",
      "[1] Standard Errors assume that the covariance matrix of the errors is correctly specified.\n"
     ]
    }
   ],
   "source": [
    "#Generalized linear model (with intercept)\n",
    "model = sm.formula.ols(formula='x ~ y + 0',data=xy_df)\n",
    "res = model.fit()\n",
    "print (res.summary())"
   ]
  },
  {
   "cell_type": "code",
   "execution_count": null,
   "metadata": {
    "collapsed": true
   },
   "outputs": [],
   "source": []
  }
 ],
 "metadata": {
  "kernelspec": {
   "display_name": "Python 3",
   "language": "python",
   "name": "python3"
  },
  "language_info": {
   "codemirror_mode": {
    "name": "ipython",
    "version": 3
   },
   "file_extension": ".py",
   "mimetype": "text/x-python",
   "name": "python",
   "nbconvert_exporter": "python",
   "pygments_lexer": "ipython3",
   "version": "3.5.2"
  }
 },
 "nbformat": 4,
 "nbformat_minor": 0
}
