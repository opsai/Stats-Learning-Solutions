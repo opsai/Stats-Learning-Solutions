{
 "cells": [
  {
   "cell_type": "markdown",
   "metadata": {},
   "source": [
    "Last modified by Soshant Bali on 12/1/2016"
   ]
  },
  {
   "cell_type": "code",
   "execution_count": 34,
   "metadata": {
    "collapsed": true
   },
   "outputs": [],
   "source": [
    "import pandas as pd\n",
    "import numpy as np\n",
    "import sklearn as sk\n",
    "import statsmodels.api as sm\n",
    "import matplotlib.pyplot as plt"
   ]
  },
  {
   "cell_type": "code",
   "execution_count": 35,
   "metadata": {
    "collapsed": true
   },
   "outputs": [],
   "source": [
    "#Generate data\n",
    "X=np.random.normal(0,1,100)\n",
    "eps=np.random.normal(0,np.sqrt(0.25),100)\n",
    "Y=-1+0.5*X + eps\n",
    "#convert numpy arrays to pandas data frame\n",
    "XY_df = pd.DataFrame({'Y':Y,'X':X})"
   ]
  },
  {
   "cell_type": "markdown",
   "metadata": {},
   "source": [
    "(c) y is of length 100. β0 is -1, β1 is 0.5."
   ]
  },
  {
   "cell_type": "code",
   "execution_count": 36,
   "metadata": {
    "collapsed": false
   },
   "outputs": [
    {
     "data": {
      "text/plain": [
       "<matplotlib.collections.PathCollection at 0xcdd3f60>"
      ]
     },
     "execution_count": 36,
     "metadata": {},
     "output_type": "execute_result"
    },
    {
     "data": {
      "image/png": "[encoded data removed]",
      "text/plain": [
       "<matplotlib.figure.Figure at 0xc9089e8>"
      ]
     },
     "metadata": {},
     "output_type": "display_data"
    }
   ],
   "source": [
    "%matplotlib inline\n",
    "plt.scatter(X,Y)"
   ]
  },
  {
   "cell_type": "markdown",
   "metadata": {},
   "source": [
    "(d) linear relation between X and Y with positive slope"
   ]
  },
  {
   "cell_type": "code",
   "execution_count": 37,
   "metadata": {
    "collapsed": false
   },
   "outputs": [
    {
     "name": "stdout",
     "output_type": "stream",
     "text": [
      "                            OLS Regression Results                            \n",
      "==============================================================================\n",
      "Dep. Variable:                      Y   R-squared:                       0.488\n",
      "Model:                            OLS   Adj. R-squared:                  0.483\n",
      "Method:                 Least Squares   F-statistic:                     93.36\n",
      "Date:                Thu, 01 Dec 2016   Prob (F-statistic):           6.54e-16\n",
      "Time:                        11:27:42   Log-Likelihood:                -73.054\n",
      "No. Observations:                 100   AIC:                             150.1\n",
      "Df Residuals:                      98   BIC:                             155.3\n",
      "Df Model:                           1                                         \n",
      "Covariance Type:            nonrobust                                         \n",
      "==============================================================================\n",
      "                 coef    std err          t      P>|t|      [95.0% Conf. Int.]\n",
      "------------------------------------------------------------------------------\n",
      "Intercept     -0.9986      0.051    -19.671      0.000        -1.099    -0.898\n",
      "X              0.4678      0.048      9.663      0.000         0.372     0.564\n",
      "==============================================================================\n",
      "Omnibus:                        3.657   Durbin-Watson:                   2.002\n",
      "Prob(Omnibus):                  0.161   Jarque-Bera (JB):                3.444\n",
      "Skew:                          -0.389   Prob(JB):                        0.179\n",
      "Kurtosis:                       2.529   Cond. No.                         1.05\n",
      "==============================================================================\n",
      "\n",
      "Warnings:\n",
      "[1] Standard Errors assume that the covariance matrix of the errors is correctly specified.\n"
     ]
    }
   ],
   "source": [
    "#linear regression\n",
    "ols_model = sm.formula.ols(formula='Y ~ X', data=XY_df)\n",
    "ols_result = ols_model.fit()\n",
    "print(ols_result.summary())"
   ]
  },
  {
   "cell_type": "code",
   "execution_count": 38,
   "metadata": {
    "collapsed": false
   },
   "outputs": [
    {
     "name": "stdout",
     "output_type": "stream",
     "text": [
      "0.507482579861\n"
     ]
    }
   ],
   "source": [
    "#calculate residual standard error\n",
    "RSE_1 = np.sqrt(ols_result.mse_resid)\n",
    "print(RSE_1)"
   ]
  },
  {
   "cell_type": "markdown",
   "metadata": {},
   "source": [
    "(e)$\\hat{\\beta_0}=-0.9326$ and $\\hat{\\beta_1}=0.5306$, which is very close to $\\beta_0$ and $\\beta_1$. Additionally, the actual coefficients are in the 95% confidence interval, for both intercept and slope."
   ]
  },
  {
   "cell_type": "markdown",
   "metadata": {},
   "source": [
    "(f) The scatter plot of data and fitted model is shown below"
   ]
  },
  {
   "cell_type": "code",
   "execution_count": 39,
   "metadata": {
    "collapsed": false
   },
   "outputs": [
    {
     "data": {
      "text/plain": [
       "<matplotlib.collections.PathCollection at 0xce25f28>"
      ]
     },
     "execution_count": 39,
     "metadata": {},
     "output_type": "execute_result"
    },
    {
     "data": {
      "image/png": "[encoded data removed]",
      "text/plain": [
       "<matplotlib.figure.Figure at 0xc902080>"
      ]
     },
     "metadata": {},
     "output_type": "display_data"
    }
   ],
   "source": [
    "%matplotlib inline\n",
    "plt.scatter(X,Y)\n",
    "plt.scatter(X,ols_result.fittedvalues, color='red')"
   ]
  },
  {
   "cell_type": "code",
   "execution_count": 40,
   "metadata": {
    "collapsed": false
   },
   "outputs": [
    {
     "name": "stdout",
     "output_type": "stream",
     "text": [
      "                            OLS Regression Results                            \n",
      "==============================================================================\n",
      "Dep. Variable:                      Y   R-squared:                       0.489\n",
      "Model:                            OLS   Adj. R-squared:                  0.478\n",
      "Method:                 Least Squares   F-statistic:                     46.36\n",
      "Date:                Thu, 01 Dec 2016   Prob (F-statistic):           7.41e-15\n",
      "Time:                        11:27:54   Log-Likelihood:                -72.973\n",
      "No. Observations:                 100   AIC:                             151.9\n",
      "Df Residuals:                      97   BIC:                             159.8\n",
      "Df Model:                           2                                         \n",
      "Covariance Type:            nonrobust                                         \n",
      "==============================================================================\n",
      "                 coef    std err          t      P>|t|      [95.0% Conf. Int.]\n",
      "------------------------------------------------------------------------------\n",
      "Intercept     -0.9821      0.066    -14.977      0.000        -1.112    -0.852\n",
      "X              0.4674      0.049      9.611      0.000         0.371     0.564\n",
      "I(X ** 2)     -0.0149      0.037     -0.399      0.691        -0.089     0.059\n",
      "==============================================================================\n",
      "Omnibus:                        3.844   Durbin-Watson:                   2.002\n",
      "Prob(Omnibus):                  0.146   Jarque-Bera (JB):                3.632\n",
      "Skew:                          -0.403   Prob(JB):                        0.163\n",
      "Kurtosis:                       2.530   Cond. No.                         2.60\n",
      "==============================================================================\n",
      "\n",
      "Warnings:\n",
      "[1] Standard Errors assume that the covariance matrix of the errors is correctly specified.\n"
     ]
    }
   ],
   "source": [
    "#Polynomial regression\n",
    "ols_model=sm.formula.ols(formula='Y~ X + I(X**2)',data=XY_df)\n",
    "ols_result=ols_model.fit()\n",
    "print(ols_result.summary())"
   ]
  },
  {
   "cell_type": "code",
   "execution_count": 41,
   "metadata": {
    "collapsed": false
   },
   "outputs": [
    {
     "name": "stdout",
     "output_type": "stream",
     "text": [
      "0.50967407964\n"
     ]
    }
   ],
   "source": [
    "#calculate residual standard error\n",
    "RSE_2 = np.sqrt(ols_result.mse_resid)\n",
    "print(RSE_2)"
   ]
  },
  {
   "cell_type": "markdown",
   "metadata": {},
   "source": [
    "(g) There is no evidence to show that adding the quadratic term improves the model fit because p-value of $X^2$ is high, i.e., 0.815"
   ]
  },
  {
   "cell_type": "code",
   "execution_count": 42,
   "metadata": {
    "collapsed": false
   },
   "outputs": [
    {
     "name": "stdout",
     "output_type": "stream",
     "text": [
      "                            OLS Regression Results                            \n",
      "==============================================================================\n",
      "Dep. Variable:                      Y   R-squared:                       0.842\n",
      "Model:                            OLS   Adj. R-squared:                  0.840\n",
      "Method:                 Least Squares   F-statistic:                     520.5\n",
      "Date:                Thu, 01 Dec 2016   Prob (F-statistic):           5.44e-41\n",
      "Time:                        11:27:59   Log-Likelihood:                 9.6279\n",
      "No. Observations:                 100   AIC:                            -15.26\n",
      "Df Residuals:                      98   BIC:                            -10.05\n",
      "Df Model:                           1                                         \n",
      "Covariance Type:            nonrobust                                         \n",
      "==============================================================================\n",
      "                 coef    std err          t      P>|t|      [95.0% Conf. Int.]\n",
      "------------------------------------------------------------------------------\n",
      "Intercept     -0.9990      0.022    -45.002      0.000        -1.043    -0.955\n",
      "X              0.5372      0.024     22.815      0.000         0.491     0.584\n",
      "==============================================================================\n",
      "Omnibus:                        6.641   Durbin-Watson:                   1.951\n",
      "Prob(Omnibus):                  0.036   Jarque-Bera (JB):                6.077\n",
      "Skew:                           0.565   Prob(JB):                       0.0479\n",
      "Kurtosis:                       3.425   Cond. No.                         1.06\n",
      "==============================================================================\n",
      "\n",
      "Warnings:\n",
      "[1] Standard Errors assume that the covariance matrix of the errors is correctly specified.\n"
     ]
    }
   ],
   "source": [
    "#Generate data\n",
    "X=np.random.normal(0,1,100)\n",
    "eps=np.random.normal(0,np.sqrt(0.05),100)\n",
    "Y=-1+0.5*X + eps\n",
    "#convert numpy arrays to pandas data frame\n",
    "XY_df = pd.DataFrame({'Y':Y,'X':X})\n",
    "#linear regression\n",
    "ols_model = sm.formula.ols(formula='Y ~ X', data=XY_df)\n",
    "ols_result = ols_model.fit()\n",
    "print(ols_result.summary())"
   ]
  },
  {
   "cell_type": "code",
   "execution_count": 43,
   "metadata": {
    "collapsed": false
   },
   "outputs": [
    {
     "name": "stdout",
     "output_type": "stream",
     "text": [
      "0.22199160501\n"
     ]
    }
   ],
   "source": [
    "#calculate residual standard error\n",
    "RSE_3 = np.sqrt(ols_result.mse_resid)\n",
    "print(RSE_3)"
   ]
  },
  {
   "cell_type": "code",
   "execution_count": 44,
   "metadata": {
    "collapsed": false
   },
   "outputs": [
    {
     "data": {
      "text/plain": [
       "<matplotlib.collections.PathCollection at 0xce96390>"
      ]
     },
     "execution_count": 44,
     "metadata": {},
     "output_type": "execute_result"
    },
    {
     "data": {
      "image/png": "[encoded data removed]",
      "text/plain": [
       "<matplotlib.figure.Figure at 0xc95c4e0>"
      ]
     },
     "metadata": {},
     "output_type": "display_data"
    }
   ],
   "source": [
    "%matplotlib inline\n",
    "plt.scatter(X,Y)\n",
    "plt.scatter(X,ols_result.fittedvalues, color='red')"
   ]
  },
  {
   "cell_type": "markdown",
   "metadata": {},
   "source": [
    "(h) note that $R^2$ increased from 0.494 to 0.834, as the variance of data decreased, because, a larger fraction of the variance can now be explained using the model. Additionally, the RSE also decreased from 0.507 to 0.222, as expected, because, RSE is really an estimate of the standard deviation of model error."
   ]
  },
  {
   "cell_type": "code",
   "execution_count": 50,
   "metadata": {
    "collapsed": false
   },
   "outputs": [
    {
     "name": "stdout",
     "output_type": "stream",
     "text": [
      "0.257049\n",
      "0.049284\n"
     ]
    }
   ],
   "source": [
    "#Show that RSE is close to the model variance\n",
    "print(np.power(0.507,2))\n",
    "print(np.power(0.222,2))"
   ]
  },
  {
   "cell_type": "markdown",
   "metadata": {},
   "source": [
    "(j)confidence intervals shrink with a reduction in noise"
   ]
  },
  {
   "cell_type": "code",
   "execution_count": null,
   "metadata": {
    "collapsed": true
   },
   "outputs": [],
   "source": []
  }
 ],
 "metadata": {
  "kernelspec": {
   "display_name": "Python 3",
   "language": "python",
   "name": "python3"
  },
  "language_info": {
   "codemirror_mode": {
    "name": "ipython",
    "version": 3
   },
   "file_extension": ".py",
   "mimetype": "text/x-python",
   "name": "python",
   "nbconvert_exporter": "python",
   "pygments_lexer": "ipython3",
   "version": "3.5.2"
  }
 },
 "nbformat": 4,
 "nbformat_minor": 0
}
