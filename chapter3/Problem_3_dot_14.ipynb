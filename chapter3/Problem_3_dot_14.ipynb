{
 "cells": [
  {
   "cell_type": "markdown",
   "metadata": {},
   "source": [
    "# Exercise on collinearity"
   ]
  },
  {
   "cell_type": "markdown",
   "metadata": {},
   "source": [
    "Last modified by Soshant Bali on 12/1/2016"
   ]
  },
  {
   "cell_type": "code",
   "execution_count": 12,
   "metadata": {
    "collapsed": true
   },
   "outputs": [],
   "source": [
    "import pandas as pd\n",
    "import numpy as np\n",
    "import sklearn as sk\n",
    "import statsmodels.api as sm\n",
    "import matplotlib.pyplot as plt"
   ]
  },
  {
   "cell_type": "code",
   "execution_count": 13,
   "metadata": {
    "collapsed": false
   },
   "outputs": [],
   "source": [
    "#Generate data\n",
    "x1=np.random.uniform(0,1,100)\n",
    "x2=0.5*x1+np.random.normal(0,1,100)/10\n",
    "y=2+2*x1+0.3*x2+np.random.normal(0,1,100)\n",
    "#convert numpy arrays to pandas data frame\n",
    "XY_df = pd.DataFrame({'y':y,'x1':x1,'x2':x2})"
   ]
  },
  {
   "cell_type": "markdown",
   "metadata": {},
   "source": [
    "(a) $y=2+2x_1+0.3x_2+e$"
   ]
  },
  {
   "cell_type": "code",
   "execution_count": 14,
   "metadata": {
    "collapsed": false
   },
   "outputs": [
    {
     "data": {
      "text/html": [
       "<div>\n",
       "<table border=\"1\" class=\"dataframe\">\n",
       "  <thead>\n",
       "    <tr style=\"text-align: right;\">\n",
       "      <th></th>\n",
       "      <th>x1</th>\n",
       "      <th>x2</th>\n",
       "      <th>y</th>\n",
       "    </tr>\n",
       "  </thead>\n",
       "  <tbody>\n",
       "    <tr>\n",
       "      <th>x1</th>\n",
       "      <td>1.000000</td>\n",
       "      <td>0.823754</td>\n",
       "      <td>0.517425</td>\n",
       "    </tr>\n",
       "    <tr>\n",
       "      <th>x2</th>\n",
       "      <td>0.823754</td>\n",
       "      <td>1.000000</td>\n",
       "      <td>0.460708</td>\n",
       "    </tr>\n",
       "    <tr>\n",
       "      <th>y</th>\n",
       "      <td>0.517425</td>\n",
       "      <td>0.460708</td>\n",
       "      <td>1.000000</td>\n",
       "    </tr>\n",
       "  </tbody>\n",
       "</table>\n",
       "</div>"
      ],
      "text/plain": [
       "          x1        x2         y\n",
       "x1  1.000000  0.823754  0.517425\n",
       "x2  0.823754  1.000000  0.460708\n",
       "y   0.517425  0.460708  1.000000"
      ]
     },
     "execution_count": 14,
     "metadata": {},
     "output_type": "execute_result"
    }
   ],
   "source": [
    "#Correlation matrix\n",
    "XY_df.corr()"
   ]
  },
  {
   "cell_type": "code",
   "execution_count": 15,
   "metadata": {
    "collapsed": false
   },
   "outputs": [
    {
     "data": {
      "text/plain": [
       "<matplotlib.collections.PathCollection at 0xbf044e0>"
      ]
     },
     "execution_count": 15,
     "metadata": {},
     "output_type": "execute_result"
    },
    {
     "data": {
      "image/png": "[encoded data removed]",
      "text/plain": [
       "<matplotlib.figure.Figure at 0xb58ca20>"
      ]
     },
     "metadata": {},
     "output_type": "display_data"
    }
   ],
   "source": [
    "#Scatter plot\n",
    "%matplotlib inline\n",
    "plt.scatter(x1,x2)"
   ]
  },
  {
   "cell_type": "markdown",
   "metadata": {},
   "source": [
    "(b) correlation between $x_1$ and $x_2$ is 0.83"
   ]
  },
  {
   "cell_type": "code",
   "execution_count": 16,
   "metadata": {
    "collapsed": false
   },
   "outputs": [
    {
     "name": "stdout",
     "output_type": "stream",
     "text": [
      "                            OLS Regression Results                            \n",
      "==============================================================================\n",
      "Dep. Variable:                      y   R-squared:                       0.271\n",
      "Model:                            OLS   Adj. R-squared:                  0.256\n",
      "Method:                 Least Squares   F-statistic:                     18.07\n",
      "Date:                Thu, 01 Dec 2016   Prob (F-statistic):           2.14e-07\n",
      "Time:                        11:59:29   Log-Likelihood:                -143.76\n",
      "No. Observations:                 100   AIC:                             293.5\n",
      "Df Residuals:                      97   BIC:                             301.3\n",
      "Df Model:                           2                                         \n",
      "Covariance Type:            nonrobust                                         \n",
      "==============================================================================\n",
      "                 coef    std err          t      P>|t|      [95.0% Conf. Int.]\n",
      "------------------------------------------------------------------------------\n",
      "Intercept      1.9528      0.214      9.113      0.000         1.528     2.378\n",
      "x1             1.7823      0.635      2.807      0.006         0.522     3.043\n",
      "x2             0.7335      1.045      0.702      0.485        -1.341     2.808\n",
      "==============================================================================\n",
      "Omnibus:                        3.219   Durbin-Watson:                   1.983\n",
      "Prob(Omnibus):                  0.200   Jarque-Bera (JB):                3.080\n",
      "Skew:                           0.368   Prob(JB):                        0.214\n",
      "Kurtosis:                       2.555   Cond. No.                         13.4\n",
      "==============================================================================\n",
      "\n",
      "Warnings:\n",
      "[1] Standard Errors assume that the covariance matrix of the errors is correctly specified.\n"
     ]
    }
   ],
   "source": [
    "#Linear regression\n",
    "ols_model = sm.formula.ols(formula='y~x1+x2',data=XY_df)\n",
    "ols_result = ols_model.fit()\n",
    "print(ols_result.summary())"
   ]
  },
  {
   "cell_type": "markdown",
   "metadata": {},
   "source": [
    "(c) $\\hat{\\beta_0}=1.95$, $\\hat{\\beta_1}=1.78$, and $\\hat{\\beta_2}=0.73$, however, p-value of $\\hat{\\beta_2}$ is very high"
   ]
  },
  {
   "cell_type": "code",
   "execution_count": 17,
   "metadata": {
    "collapsed": false
   },
   "outputs": [
    {
     "data": {
      "text/plain": [
       "1.0345112294079306"
      ]
     },
     "execution_count": 17,
     "metadata": {},
     "output_type": "execute_result"
    }
   ],
   "source": [
    "#Calculate RSE\n",
    "np.sqrt(ols_result.mse_resid)"
   ]
  },
  {
   "cell_type": "code",
   "execution_count": 18,
   "metadata": {
    "collapsed": false
   },
   "outputs": [
    {
     "name": "stdout",
     "output_type": "stream",
     "text": [
      "                            OLS Regression Results                            \n",
      "==============================================================================\n",
      "Dep. Variable:                      y   R-squared:                       0.268\n",
      "Model:                            OLS   Adj. R-squared:                  0.260\n",
      "Method:                 Least Squares   F-statistic:                     35.83\n",
      "Date:                Thu, 01 Dec 2016   Prob (F-statistic):           3.54e-08\n",
      "Time:                        16:13:32   Log-Likelihood:                -144.02\n",
      "No. Observations:                 100   AIC:                             292.0\n",
      "Df Residuals:                      98   BIC:                             297.2\n",
      "Df Model:                           1                                         \n",
      "Covariance Type:            nonrobust                                         \n",
      "==============================================================================\n",
      "                 coef    std err          t      P>|t|      [95.0% Conf. Int.]\n",
      "------------------------------------------------------------------------------\n",
      "Intercept      1.9562      0.214      9.154      0.000         1.532     2.380\n",
      "x1             2.1493      0.359      5.986      0.000         1.437     2.862\n",
      "==============================================================================\n",
      "Omnibus:                        3.128   Durbin-Watson:                   1.995\n",
      "Prob(Omnibus):                  0.209   Jarque-Bera (JB):                2.983\n",
      "Skew:                           0.359   Prob(JB):                        0.225\n",
      "Kurtosis:                       2.552   Cond. No.                         4.49\n",
      "==============================================================================\n",
      "\n",
      "Warnings:\n",
      "[1] Standard Errors assume that the covariance matrix of the errors is correctly specified.\n"
     ]
    }
   ],
   "source": [
    "#Linear regression using only x1\n",
    "ols_model = sm.formula.ols(formula='y~x1',data=XY_df)\n",
    "ols_result = ols_model.fit()\n",
    "print(ols_result.summary())"
   ]
  },
  {
   "cell_type": "markdown",
   "metadata": {},
   "source": [
    "(d) Yes, we can reject the null hypothesis $H_0: \\beta_1 = 0$, because the p-value is low"
   ]
  },
  {
   "cell_type": "code",
   "execution_count": 19,
   "metadata": {
    "collapsed": false
   },
   "outputs": [
    {
     "name": "stdout",
     "output_type": "stream",
     "text": [
      "                            OLS Regression Results                            \n",
      "==============================================================================\n",
      "Dep. Variable:                      y   R-squared:                       0.212\n",
      "Model:                            OLS   Adj. R-squared:                  0.204\n",
      "Method:                 Least Squares   F-statistic:                     26.41\n",
      "Date:                Thu, 01 Dec 2016   Prob (F-statistic):           1.41e-06\n",
      "Time:                        16:15:06   Log-Likelihood:                -147.67\n",
      "No. Observations:                 100   AIC:                             299.3\n",
      "Df Residuals:                      98   BIC:                             304.5\n",
      "Df Model:                           1                                         \n",
      "Covariance Type:            nonrobust                                         \n",
      "==============================================================================\n",
      "                 coef    std err          t      P>|t|      [95.0% Conf. Int.]\n",
      "------------------------------------------------------------------------------\n",
      "Intercept      2.2404      0.195     11.507      0.000         1.854     2.627\n",
      "x2             3.1505      0.613      5.139      0.000         1.934     4.367\n",
      "==============================================================================\n",
      "Omnibus:                        2.430   Durbin-Watson:                   1.967\n",
      "Prob(Omnibus):                  0.297   Jarque-Bera (JB):                2.253\n",
      "Skew:                           0.281   Prob(JB):                        0.324\n",
      "Kurtosis:                       2.526   Cond. No.                         6.14\n",
      "==============================================================================\n",
      "\n",
      "Warnings:\n",
      "[1] Standard Errors assume that the covariance matrix of the errors is correctly specified.\n"
     ]
    }
   ],
   "source": [
    "#Linear regression using only x2\n",
    "ols_model = sm.formula.ols(formula='y~x2',data=XY_df)\n",
    "ols_result = ols_model.fit()\n",
    "print(ols_result.summary())"
   ]
  },
  {
   "cell_type": "markdown",
   "metadata": {},
   "source": [
    "(e) Yes, we can reject the null hypothesis $H_0: \\beta_2 = 0$, because the p-value is low"
   ]
  },
  {
   "cell_type": "code",
   "execution_count": null,
   "metadata": {
    "collapsed": true
   },
   "outputs": [],
   "source": []
  }
 ],
 "metadata": {
  "kernelspec": {
   "display_name": "Python 3",
   "language": "python",
   "name": "python3"
  },
  "language_info": {
   "codemirror_mode": {
    "name": "ipython",
    "version": 3
   },
   "file_extension": ".py",
   "mimetype": "text/x-python",
   "name": "python",
   "nbconvert_exporter": "python",
   "pygments_lexer": "ipython3",
   "version": "3.5.2"
  }
 },
 "nbformat": 4,
 "nbformat_minor": 0
}
